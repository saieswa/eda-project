{
  "nbformat": 4,
  "nbformat_minor": 0,
  "metadata": {
    "colab": {
      "provenance": [],
      "include_colab_link": true
    },
    "kernelspec": {
      "name": "python3",
      "display_name": "Python 3"
    },
    "language_info": {
      "name": "python"
    }
  },
  "cells": [
    {
      "cell_type": "markdown",
      "metadata": {
        "id": "view-in-github",
        "colab_type": "text"
      },
      "source": [
        "<a href=\"https://colab.research.google.com/github/saieswa/eda-project/blob/main/Another_copy_of_Untitled3.ipynb\" target=\"_parent\"><img src=\"https://colab.research.google.com/assets/colab-badge.svg\" alt=\"Open In Colab\"/></a>"
      ]
    },
    {
      "cell_type": "code",
      "execution_count": null,
      "metadata": {
        "id": "IpyYmksKImxp"
      },
      "outputs": [],
      "source": [
        "import matplotlib.pyplot as plt\n",
        "import numpy as np\n",
        "import pandas as pd\n",
        "%matplotlib inline"
      ]
    },
    {
      "cell_type": "code",
      "source": [
        "df=pd.read_csv('/content/1.01. Simple linear regression.csv')"
      ],
      "metadata": {
        "id": "y_aCZQHTJK-v"
      },
      "execution_count": null,
      "outputs": []
    },
    {
      "cell_type": "code",
      "source": [
        "df"
      ],
      "metadata": {
        "colab": {
          "base_uri": "https://localhost:8080/",
          "height": 424
        },
        "id": "UPt4swAPJZ6e",
        "outputId": "f43195ed-ce05-463f-edd9-56df6c3da1cb"
      },
      "execution_count": null,
      "outputs": [
        {
          "output_type": "execute_result",
          "data": {
            "text/plain": [
              "     SAT   GPA\n",
              "0   1714  2.40\n",
              "1   1664  2.52\n",
              "2   1760  2.54\n",
              "3   1685  2.74\n",
              "4   1693  2.83\n",
              "..   ...   ...\n",
              "79  1936  3.71\n",
              "80  1810  3.71\n",
              "81  1987  3.73\n",
              "82  1962  3.76\n",
              "83  2050  3.81\n",
              "\n",
              "[84 rows x 2 columns]"
            ],
            "text/html": [
              "\n",
              "  <div id=\"df-f2621ea2-e825-4fbc-aae3-1dc8c5478836\" class=\"colab-df-container\">\n",
              "    <div>\n",
              "<style scoped>\n",
              "    .dataframe tbody tr th:only-of-type {\n",
              "        vertical-align: middle;\n",
              "    }\n",
              "\n",
              "    .dataframe tbody tr th {\n",
              "        vertical-align: top;\n",
              "    }\n",
              "\n",
              "    .dataframe thead th {\n",
              "        text-align: right;\n",
              "    }\n",
              "</style>\n",
              "<table border=\"1\" class=\"dataframe\">\n",
              "  <thead>\n",
              "    <tr style=\"text-align: right;\">\n",
              "      <th></th>\n",
              "      <th>SAT</th>\n",
              "      <th>GPA</th>\n",
              "    </tr>\n",
              "  </thead>\n",
              "  <tbody>\n",
              "    <tr>\n",
              "      <th>0</th>\n",
              "      <td>1714</td>\n",
              "      <td>2.40</td>\n",
              "    </tr>\n",
              "    <tr>\n",
              "      <th>1</th>\n",
              "      <td>1664</td>\n",
              "      <td>2.52</td>\n",
              "    </tr>\n",
              "    <tr>\n",
              "      <th>2</th>\n",
              "      <td>1760</td>\n",
              "      <td>2.54</td>\n",
              "    </tr>\n",
              "    <tr>\n",
              "      <th>3</th>\n",
              "      <td>1685</td>\n",
              "      <td>2.74</td>\n",
              "    </tr>\n",
              "    <tr>\n",
              "      <th>4</th>\n",
              "      <td>1693</td>\n",
              "      <td>2.83</td>\n",
              "    </tr>\n",
              "    <tr>\n",
              "      <th>...</th>\n",
              "      <td>...</td>\n",
              "      <td>...</td>\n",
              "    </tr>\n",
              "    <tr>\n",
              "      <th>79</th>\n",
              "      <td>1936</td>\n",
              "      <td>3.71</td>\n",
              "    </tr>\n",
              "    <tr>\n",
              "      <th>80</th>\n",
              "      <td>1810</td>\n",
              "      <td>3.71</td>\n",
              "    </tr>\n",
              "    <tr>\n",
              "      <th>81</th>\n",
              "      <td>1987</td>\n",
              "      <td>3.73</td>\n",
              "    </tr>\n",
              "    <tr>\n",
              "      <th>82</th>\n",
              "      <td>1962</td>\n",
              "      <td>3.76</td>\n",
              "    </tr>\n",
              "    <tr>\n",
              "      <th>83</th>\n",
              "      <td>2050</td>\n",
              "      <td>3.81</td>\n",
              "    </tr>\n",
              "  </tbody>\n",
              "</table>\n",
              "<p>84 rows × 2 columns</p>\n",
              "</div>\n",
              "    <div class=\"colab-df-buttons\">\n",
              "\n",
              "  <div class=\"colab-df-container\">\n",
              "    <button class=\"colab-df-convert\" onclick=\"convertToInteractive('df-f2621ea2-e825-4fbc-aae3-1dc8c5478836')\"\n",
              "            title=\"Convert this dataframe to an interactive table.\"\n",
              "            style=\"display:none;\">\n",
              "\n",
              "  <svg xmlns=\"http://www.w3.org/2000/svg\" height=\"24px\" viewBox=\"0 -960 960 960\">\n",
              "    <path d=\"M120-120v-720h720v720H120Zm60-500h600v-160H180v160Zm220 220h160v-160H400v160Zm0 220h160v-160H400v160ZM180-400h160v-160H180v160Zm440 0h160v-160H620v160ZM180-180h160v-160H180v160Zm440 0h160v-160H620v160Z\"/>\n",
              "  </svg>\n",
              "    </button>\n",
              "\n",
              "  <style>\n",
              "    .colab-df-container {\n",
              "      display:flex;\n",
              "      gap: 12px;\n",
              "    }\n",
              "\n",
              "    .colab-df-convert {\n",
              "      background-color: #E8F0FE;\n",
              "      border: none;\n",
              "      border-radius: 50%;\n",
              "      cursor: pointer;\n",
              "      display: none;\n",
              "      fill: #1967D2;\n",
              "      height: 32px;\n",
              "      padding: 0 0 0 0;\n",
              "      width: 32px;\n",
              "    }\n",
              "\n",
              "    .colab-df-convert:hover {\n",
              "      background-color: #E2EBFA;\n",
              "      box-shadow: 0px 1px 2px rgba(60, 64, 67, 0.3), 0px 1px 3px 1px rgba(60, 64, 67, 0.15);\n",
              "      fill: #174EA6;\n",
              "    }\n",
              "\n",
              "    .colab-df-buttons div {\n",
              "      margin-bottom: 4px;\n",
              "    }\n",
              "\n",
              "    [theme=dark] .colab-df-convert {\n",
              "      background-color: #3B4455;\n",
              "      fill: #D2E3FC;\n",
              "    }\n",
              "\n",
              "    [theme=dark] .colab-df-convert:hover {\n",
              "      background-color: #434B5C;\n",
              "      box-shadow: 0px 1px 3px 1px rgba(0, 0, 0, 0.15);\n",
              "      filter: drop-shadow(0px 1px 2px rgba(0, 0, 0, 0.3));\n",
              "      fill: #FFFFFF;\n",
              "    }\n",
              "  </style>\n",
              "\n",
              "    <script>\n",
              "      const buttonEl =\n",
              "        document.querySelector('#df-f2621ea2-e825-4fbc-aae3-1dc8c5478836 button.colab-df-convert');\n",
              "      buttonEl.style.display =\n",
              "        google.colab.kernel.accessAllowed ? 'block' : 'none';\n",
              "\n",
              "      async function convertToInteractive(key) {\n",
              "        const element = document.querySelector('#df-f2621ea2-e825-4fbc-aae3-1dc8c5478836');\n",
              "        const dataTable =\n",
              "          await google.colab.kernel.invokeFunction('convertToInteractive',\n",
              "                                                    [key], {});\n",
              "        if (!dataTable) return;\n",
              "\n",
              "        const docLinkHtml = 'Like what you see? Visit the ' +\n",
              "          '<a target=\"_blank\" href=https://colab.research.google.com/notebooks/data_table.ipynb>data table notebook</a>'\n",
              "          + ' to learn more about interactive tables.';\n",
              "        element.innerHTML = '';\n",
              "        dataTable['output_type'] = 'display_data';\n",
              "        await google.colab.output.renderOutput(dataTable, element);\n",
              "        const docLink = document.createElement('div');\n",
              "        docLink.innerHTML = docLinkHtml;\n",
              "        element.appendChild(docLink);\n",
              "      }\n",
              "    </script>\n",
              "  </div>\n",
              "\n",
              "\n",
              "<div id=\"df-b0c74d56-846d-4e53-b8a4-24c4f14836bc\">\n",
              "  <button class=\"colab-df-quickchart\" onclick=\"quickchart('df-b0c74d56-846d-4e53-b8a4-24c4f14836bc')\"\n",
              "            title=\"Suggest charts\"\n",
              "            style=\"display:none;\">\n",
              "\n",
              "<svg xmlns=\"http://www.w3.org/2000/svg\" height=\"24px\"viewBox=\"0 0 24 24\"\n",
              "     width=\"24px\">\n",
              "    <g>\n",
              "        <path d=\"M19 3H5c-1.1 0-2 .9-2 2v14c0 1.1.9 2 2 2h14c1.1 0 2-.9 2-2V5c0-1.1-.9-2-2-2zM9 17H7v-7h2v7zm4 0h-2V7h2v10zm4 0h-2v-4h2v4z\"/>\n",
              "    </g>\n",
              "</svg>\n",
              "  </button>\n",
              "\n",
              "<style>\n",
              "  .colab-df-quickchart {\n",
              "      --bg-color: #E8F0FE;\n",
              "      --fill-color: #1967D2;\n",
              "      --hover-bg-color: #E2EBFA;\n",
              "      --hover-fill-color: #174EA6;\n",
              "      --disabled-fill-color: #AAA;\n",
              "      --disabled-bg-color: #DDD;\n",
              "  }\n",
              "\n",
              "  [theme=dark] .colab-df-quickchart {\n",
              "      --bg-color: #3B4455;\n",
              "      --fill-color: #D2E3FC;\n",
              "      --hover-bg-color: #434B5C;\n",
              "      --hover-fill-color: #FFFFFF;\n",
              "      --disabled-bg-color: #3B4455;\n",
              "      --disabled-fill-color: #666;\n",
              "  }\n",
              "\n",
              "  .colab-df-quickchart {\n",
              "    background-color: var(--bg-color);\n",
              "    border: none;\n",
              "    border-radius: 50%;\n",
              "    cursor: pointer;\n",
              "    display: none;\n",
              "    fill: var(--fill-color);\n",
              "    height: 32px;\n",
              "    padding: 0;\n",
              "    width: 32px;\n",
              "  }\n",
              "\n",
              "  .colab-df-quickchart:hover {\n",
              "    background-color: var(--hover-bg-color);\n",
              "    box-shadow: 0 1px 2px rgba(60, 64, 67, 0.3), 0 1px 3px 1px rgba(60, 64, 67, 0.15);\n",
              "    fill: var(--button-hover-fill-color);\n",
              "  }\n",
              "\n",
              "  .colab-df-quickchart-complete:disabled,\n",
              "  .colab-df-quickchart-complete:disabled:hover {\n",
              "    background-color: var(--disabled-bg-color);\n",
              "    fill: var(--disabled-fill-color);\n",
              "    box-shadow: none;\n",
              "  }\n",
              "\n",
              "  .colab-df-spinner {\n",
              "    border: 2px solid var(--fill-color);\n",
              "    border-color: transparent;\n",
              "    border-bottom-color: var(--fill-color);\n",
              "    animation:\n",
              "      spin 1s steps(1) infinite;\n",
              "  }\n",
              "\n",
              "  @keyframes spin {\n",
              "    0% {\n",
              "      border-color: transparent;\n",
              "      border-bottom-color: var(--fill-color);\n",
              "      border-left-color: var(--fill-color);\n",
              "    }\n",
              "    20% {\n",
              "      border-color: transparent;\n",
              "      border-left-color: var(--fill-color);\n",
              "      border-top-color: var(--fill-color);\n",
              "    }\n",
              "    30% {\n",
              "      border-color: transparent;\n",
              "      border-left-color: var(--fill-color);\n",
              "      border-top-color: var(--fill-color);\n",
              "      border-right-color: var(--fill-color);\n",
              "    }\n",
              "    40% {\n",
              "      border-color: transparent;\n",
              "      border-right-color: var(--fill-color);\n",
              "      border-top-color: var(--fill-color);\n",
              "    }\n",
              "    60% {\n",
              "      border-color: transparent;\n",
              "      border-right-color: var(--fill-color);\n",
              "    }\n",
              "    80% {\n",
              "      border-color: transparent;\n",
              "      border-right-color: var(--fill-color);\n",
              "      border-bottom-color: var(--fill-color);\n",
              "    }\n",
              "    90% {\n",
              "      border-color: transparent;\n",
              "      border-bottom-color: var(--fill-color);\n",
              "    }\n",
              "  }\n",
              "</style>\n",
              "\n",
              "  <script>\n",
              "    async function quickchart(key) {\n",
              "      const quickchartButtonEl =\n",
              "        document.querySelector('#' + key + ' button');\n",
              "      quickchartButtonEl.disabled = true;  // To prevent multiple clicks.\n",
              "      quickchartButtonEl.classList.add('colab-df-spinner');\n",
              "      try {\n",
              "        const charts = await google.colab.kernel.invokeFunction(\n",
              "            'suggestCharts', [key], {});\n",
              "      } catch (error) {\n",
              "        console.error('Error during call to suggestCharts:', error);\n",
              "      }\n",
              "      quickchartButtonEl.classList.remove('colab-df-spinner');\n",
              "      quickchartButtonEl.classList.add('colab-df-quickchart-complete');\n",
              "    }\n",
              "    (() => {\n",
              "      let quickchartButtonEl =\n",
              "        document.querySelector('#df-b0c74d56-846d-4e53-b8a4-24c4f14836bc button');\n",
              "      quickchartButtonEl.style.display =\n",
              "        google.colab.kernel.accessAllowed ? 'block' : 'none';\n",
              "    })();\n",
              "  </script>\n",
              "</div>\n",
              "\n",
              "  <div id=\"id_e607e57c-cdad-4baf-976c-859cdbb3be26\">\n",
              "    <style>\n",
              "      .colab-df-generate {\n",
              "        background-color: #E8F0FE;\n",
              "        border: none;\n",
              "        border-radius: 50%;\n",
              "        cursor: pointer;\n",
              "        display: none;\n",
              "        fill: #1967D2;\n",
              "        height: 32px;\n",
              "        padding: 0 0 0 0;\n",
              "        width: 32px;\n",
              "      }\n",
              "\n",
              "      .colab-df-generate:hover {\n",
              "        background-color: #E2EBFA;\n",
              "        box-shadow: 0px 1px 2px rgba(60, 64, 67, 0.3), 0px 1px 3px 1px rgba(60, 64, 67, 0.15);\n",
              "        fill: #174EA6;\n",
              "      }\n",
              "\n",
              "      [theme=dark] .colab-df-generate {\n",
              "        background-color: #3B4455;\n",
              "        fill: #D2E3FC;\n",
              "      }\n",
              "\n",
              "      [theme=dark] .colab-df-generate:hover {\n",
              "        background-color: #434B5C;\n",
              "        box-shadow: 0px 1px 3px 1px rgba(0, 0, 0, 0.15);\n",
              "        filter: drop-shadow(0px 1px 2px rgba(0, 0, 0, 0.3));\n",
              "        fill: #FFFFFF;\n",
              "      }\n",
              "    </style>\n",
              "    <button class=\"colab-df-generate\" onclick=\"generateWithVariable('df')\"\n",
              "            title=\"Generate code using this dataframe.\"\n",
              "            style=\"display:none;\">\n",
              "\n",
              "  <svg xmlns=\"http://www.w3.org/2000/svg\" height=\"24px\"viewBox=\"0 0 24 24\"\n",
              "       width=\"24px\">\n",
              "    <path d=\"M7,19H8.4L18.45,9,17,7.55,7,17.6ZM5,21V16.75L18.45,3.32a2,2,0,0,1,2.83,0l1.4,1.43a1.91,1.91,0,0,1,.58,1.4,1.91,1.91,0,0,1-.58,1.4L9.25,21ZM18.45,9,17,7.55Zm-12,3A5.31,5.31,0,0,0,4.9,8.1,5.31,5.31,0,0,0,1,6.5,5.31,5.31,0,0,0,4.9,4.9,5.31,5.31,0,0,0,6.5,1,5.31,5.31,0,0,0,8.1,4.9,5.31,5.31,0,0,0,12,6.5,5.46,5.46,0,0,0,6.5,12Z\"/>\n",
              "  </svg>\n",
              "    </button>\n",
              "    <script>\n",
              "      (() => {\n",
              "      const buttonEl =\n",
              "        document.querySelector('#id_e607e57c-cdad-4baf-976c-859cdbb3be26 button.colab-df-generate');\n",
              "      buttonEl.style.display =\n",
              "        google.colab.kernel.accessAllowed ? 'block' : 'none';\n",
              "\n",
              "      buttonEl.onclick = () => {\n",
              "        google.colab.notebook.generateWithVariable('df');\n",
              "      }\n",
              "      })();\n",
              "    </script>\n",
              "  </div>\n",
              "\n",
              "    </div>\n",
              "  </div>\n"
            ],
            "application/vnd.google.colaboratory.intrinsic+json": {
              "type": "dataframe",
              "variable_name": "df",
              "summary": "{\n  \"name\": \"df\",\n  \"rows\": 84,\n  \"fields\": [\n    {\n      \"column\": \"SAT\",\n      \"properties\": {\n        \"dtype\": \"number\",\n        \"std\": 104,\n        \"min\": 1634,\n        \"max\": 2050,\n        \"num_unique_values\": 73,\n        \"samples\": [\n          1693,\n          1975,\n          1761\n        ],\n        \"semantic_type\": \"\",\n        \"description\": \"\"\n      }\n    },\n    {\n      \"column\": \"GPA\",\n      \"properties\": {\n        \"dtype\": \"number\",\n        \"std\": 0.27161709490036023,\n        \"min\": 2.4,\n        \"max\": 3.81,\n        \"num_unique_values\": 47,\n        \"samples\": [\n          3.42,\n          3.61,\n          3.41\n        ],\n        \"semantic_type\": \"\",\n        \"description\": \"\"\n      }\n    }\n  ]\n}"
            }
          },
          "metadata": {},
          "execution_count": 4
        }
      ]
    },
    {
      "cell_type": "code",
      "source": [
        "plt.scatter(df['SAT'],df['GPA'])\n",
        "plt.title(\"Placement plot\")\n",
        "plt.xlim(1714,2050)\n",
        "plt.ylim(2.40,3.81)\n",
        "plt.xticks(np.arange(2000,2020,2))\n",
        "plt.legend()\n",
        "plt.xlabel(\"SAT\")\n",
        "plt.ylabel(\"GPA\")\n",
        "plt.show()"
      ],
      "metadata": {
        "colab": {
          "base_uri": "https://localhost:8080/",
          "height": 510
        },
        "id": "yWELB1aoJb8J",
        "outputId": "f9fa9172-61d2-4a62-85a4-0ced0e325b5f"
      },
      "execution_count": null,
      "outputs": [
        {
          "output_type": "stream",
          "name": "stderr",
          "text": [
            "WARNING:matplotlib.legend:No artists with labels found to put in legend.  Note that artists whose label start with an underscore are ignored when legend() is called with no argument.\n"
          ]
        },
        {
          "output_type": "display_data",
          "data": {
            "text/plain": [
              "<Figure size 640x480 with 1 Axes>"
            ],
            "image/png": "[encoded data removed]"
          },
          "metadata": {}
        }
      ]
    },
    {
      "cell_type": "code",
      "source": [
        "X = df.iloc[:, :-1].values\n",
        "Y = df.iloc[:, -1].values\n"
      ],
      "metadata": {
        "id": "rTE_xCrDKIuM"
      },
      "execution_count": null,
      "outputs": []
    },
    {
      "cell_type": "code",
      "source": [
        "from sklearn.model_selection import train_test_split\n",
        "x_train, x_test, y_train, y_test = train_test_split(X, Y, test_size = 0.1, random_state = 0)\n"
      ],
      "metadata": {
        "id": "0EMz14iZL2Na"
      },
      "execution_count": null,
      "outputs": []
    },
    {
      "cell_type": "code",
      "source": [
        "from sklearn.linear_model import LinearRegression\n",
        "reg = LinearRegression()\n",
        "reg.fit(x_train, y_train)"
      ],
      "metadata": {
        "colab": {
          "base_uri": "https://localhost:8080/",
          "height": 75
        },
        "id": "M6fxeAAXL-MB",
        "outputId": "c2c0b7c0-a958-4b08-b705-4674efd65f5a"
      },
      "execution_count": null,
      "outputs": [
        {
          "output_type": "execute_result",
          "data": {
            "text/plain": [
              "LinearRegression()"
            ],
            "text/html": [
              "<style>#sk-container-id-1 {color: black;background-color: white;}#sk-container-id-1 pre{padding: 0;}#sk-container-id-1 div.sk-toggleable {background-color: white;}#sk-container-id-1 label.sk-toggleable__label {cursor: pointer;display: block;width: 100%;margin-bottom: 0;padding: 0.3em;box-sizing: border-box;text-align: center;}#sk-container-id-1 label.sk-toggleable__label-arrow:before {content: \"▸\";float: left;margin-right: 0.25em;color: #696969;}#sk-container-id-1 label.sk-toggleable__label-arrow:hover:before {color: black;}#sk-container-id-1 div.sk-estimator:hover label.sk-toggleable__label-arrow:before {color: black;}#sk-container-id-1 div.sk-toggleable__content {max-height: 0;max-width: 0;overflow: hidden;text-align: left;background-color: #f0f8ff;}#sk-container-id-1 div.sk-toggleable__content pre {margin: 0.2em;color: black;border-radius: 0.25em;background-color: #f0f8ff;}#sk-container-id-1 input.sk-toggleable__control:checked~div.sk-toggleable__content {max-height: 200px;max-width: 100%;overflow: auto;}#sk-container-id-1 input.sk-toggleable__control:checked~label.sk-toggleable__label-arrow:before {content: \"▾\";}#sk-container-id-1 div.sk-estimator input.sk-toggleable__control:checked~label.sk-toggleable__label {background-color: #d4ebff;}#sk-container-id-1 div.sk-label input.sk-toggleable__control:checked~label.sk-toggleable__label {background-color: #d4ebff;}#sk-container-id-1 input.sk-hidden--visually {border: 0;clip: rect(1px 1px 1px 1px);clip: rect(1px, 1px, 1px, 1px);height: 1px;margin: -1px;overflow: hidden;padding: 0;position: absolute;width: 1px;}#sk-container-id-1 div.sk-estimator {font-family: monospace;background-color: #f0f8ff;border: 1px dotted black;border-radius: 0.25em;box-sizing: border-box;margin-bottom: 0.5em;}#sk-container-id-1 div.sk-estimator:hover {background-color: #d4ebff;}#sk-container-id-1 div.sk-parallel-item::after {content: \"\";width: 100%;border-bottom: 1px solid gray;flex-grow: 1;}#sk-container-id-1 div.sk-label:hover label.sk-toggleable__label {background-color: #d4ebff;}#sk-container-id-1 div.sk-serial::before {content: \"\";position: absolute;border-left: 1px solid gray;box-sizing: border-box;top: 0;bottom: 0;left: 50%;z-index: 0;}#sk-container-id-1 div.sk-serial {display: flex;flex-direction: column;align-items: center;background-color: white;padding-right: 0.2em;padding-left: 0.2em;position: relative;}#sk-container-id-1 div.sk-item {position: relative;z-index: 1;}#sk-container-id-1 div.sk-parallel {display: flex;align-items: stretch;justify-content: center;background-color: white;position: relative;}#sk-container-id-1 div.sk-item::before, #sk-container-id-1 div.sk-parallel-item::before {content: \"\";position: absolute;border-left: 1px solid gray;box-sizing: border-box;top: 0;bottom: 0;left: 50%;z-index: -1;}#sk-container-id-1 div.sk-parallel-item {display: flex;flex-direction: column;z-index: 1;position: relative;background-color: white;}#sk-container-id-1 div.sk-parallel-item:first-child::after {align-self: flex-end;width: 50%;}#sk-container-id-1 div.sk-parallel-item:last-child::after {align-self: flex-start;width: 50%;}#sk-container-id-1 div.sk-parallel-item:only-child::after {width: 0;}#sk-container-id-1 div.sk-dashed-wrapped {border: 1px dashed gray;margin: 0 0.4em 0.5em 0.4em;box-sizing: border-box;padding-bottom: 0.4em;background-color: white;}#sk-container-id-1 div.sk-label label {font-family: monospace;font-weight: bold;display: inline-block;line-height: 1.2em;}#sk-container-id-1 div.sk-label-container {text-align: center;}#sk-container-id-1 div.sk-container {/* jupyter's `normalize.less` sets `[hidden] { display: none; }` but bootstrap.min.css set `[hidden] { display: none !important; }` so we also need the `!important` here to be able to override the default hidden behavior on the sphinx rendered scikit-learn.org. See: https://github.com/scikit-learn/scikit-learn/issues/21755 */display: inline-block !important;position: relative;}#sk-container-id-1 div.sk-text-repr-fallback {display: none;}</style><div id=\"sk-container-id-1\" class=\"sk-top-container\"><div class=\"sk-text-repr-fallback\"><pre>LinearRegression()</pre><b>In a Jupyter environment, please rerun this cell to show the HTML representation or trust the notebook. <br />On GitHub, the HTML representation is unable to render, please try loading this page with nbviewer.org.</b></div><div class=\"sk-container\" hidden><div class=\"sk-item\"><div class=\"sk-estimator sk-toggleable\"><input class=\"sk-toggleable__control sk-hidden--visually\" id=\"sk-estimator-id-1\" type=\"checkbox\" checked><label for=\"sk-estimator-id-1\" class=\"sk-toggleable__label sk-toggleable__label-arrow\">LinearRegression</label><div class=\"sk-toggleable__content\"><pre>LinearRegression()</pre></div></div></div></div></div>"
            ]
          },
          "metadata": {},
          "execution_count": 8
        }
      ]
    },
    {
      "cell_type": "code",
      "source": [
        "y_pred = reg.predict(x_test)"
      ],
      "metadata": {
        "id": "QcJU7EMMMFjJ"
      },
      "execution_count": null,
      "outputs": []
    },
    {
      "cell_type": "code",
      "source": [
        "plt.scatter(x_train, y_train, color = 'red')\n",
        "plt.plot(x_train, reg.predict(x_train), color = 'blue')\n",
        "plt.title(\"SAT Score vs GPA (Training Model)\")\n",
        "plt.xlabel('SAT SCORE')\n",
        "plt.ylabel('GPA')\n",
        "plt.show()"
      ],
      "metadata": {
        "colab": {
          "base_uri": "https://localhost:8080/",
          "height": 472
        },
        "id": "9PCItO32MMoS",
        "outputId": "cadc36f4-2f98-47f5-ac19-9b2d68c4600a"
      },
      "execution_count": null,
      "outputs": [
        {
          "output_type": "display_data",
          "data": {
            "text/plain": [
              "<Figure size 640x480 with 1 Axes>"
            ],
            "image/png": "[encoded data removed]"
          },
          "metadata": {}
        }
      ]
    },
    {
      "cell_type": "code",
      "source": [
        "plt.scatter(x_test, y_test, color = 'red')\n",
        "plt.plot(x_train, reg.predict(x_train), color = 'blue')\n",
        "plt.title(\"SAT Score vs GPA (Training Model)\")\n",
        "plt.xlabel('SAT SCORE')\n",
        "plt.ylabel('GPA')\n",
        "plt.show()\n"
      ],
      "metadata": {
        "colab": {
          "base_uri": "https://localhost:8080/",
          "height": 472
        },
        "id": "1F47iOgVMXHC",
        "outputId": "44ff380f-d129-4374-942a-6208d9729d5e"
      },
      "execution_count": null,
      "outputs": [
        {
          "output_type": "display_data",
          "data": {
            "text/plain": [
              "<Figure size 640x480 with 1 Axes>"
            ],
            "image/png": "[encoded data removed]"
          },
          "metadata": {}
        }
      ]
    },
    {
      "cell_type": "code",
      "source": [
        "import seaborn as sb\n",
        "data_corr = df.corr()\n",
        "sb.heatmap(data_corr,annot=True)"
      ],
      "metadata": {
        "colab": {
          "base_uri": "https://localhost:8080/",
          "height": 453
        },
        "id": "lBNsFHRxMjV-",
        "outputId": "4d1e945f-6f2e-43ae-844e-6b609c3f65e5"
      },
      "execution_count": null,
      "outputs": [
        {
          "output_type": "execute_result",
          "data": {
            "text/plain": [
              "<Axes: >"
            ]
          },
          "metadata": {},
          "execution_count": 12
        },
        {
          "output_type": "display_data",
          "data": {
            "text/plain": [
              "<Figure size 640x480 with 2 Axes>"
            ],
            "image/png": "[encoded data removed]"
          },
          "metadata": {}
        }
      ]
    },
    {
      "cell_type": "code",
      "source": [
        "from sklearn import linear_model\n",
        "regress = linear_model.LinearRegression()\n",
        "\n",
        "train_x = np.asanyarray(df[['SAT']])\n",
        "train_y = np.asanyarray(df[['GPA']])\n",
        "#print(train_x)\n",
        "#print(train_y)\n",
        "\n",
        "regress.fit (train_x,train_y)\n",
        "# The coefficients\n",
        "print ('Coefficients: ', regress.coef_)\n",
        "print ('Intercept: ',regress.intercept_)\n",
        "\n",
        "regress1 = linear_model.LinearRegression()\n",
        "train_x1 = np.asanyarray(df[['SAT']])\n",
        "train_y1 = np.asanyarray(df[['GPA']])\n",
        "#print(train_x)\n",
        "#print(train_y)\n",
        "\n",
        "regress1.fit (train_x1,train_y1)\n",
        "# The coefficients\n",
        "m=regress1.coef_\n",
        "c=regress1.intercept_\n",
        "print ('Coefficients: ', regress1.coef_)\n",
        "print ('Intercept: ',regress1.intercept_)"
      ],
      "metadata": {
        "colab": {
          "base_uri": "https://localhost:8080/"
        },
        "id": "B-xR3AWaMwae",
        "outputId": "1d11c684-1843-4ab8-8336-eb2d5ab6d9fc"
      },
      "execution_count": null,
      "outputs": [
        {
          "output_type": "stream",
          "name": "stdout",
          "text": [
            "Coefficients:  [[0.00165569]]\n",
            "Intercept:  [0.2750403]\n",
            "Coefficients:  [[0.00165569]]\n",
            "Intercept:  [0.2750403]\n"
          ]
        }
      ]
    },
    {
      "cell_type": "code",
      "source": [
        "plt.scatter(df.SAT, df.GPA,  color='blue',label=\"Actual\")\n",
        "plt.plot(train_x, regress.coef_[0][0]*train_x + regress.intercept_[0], '-r',label=\"Predicted\")\n",
        "plt.title(\"Placement plot\")\n",
        "plt.xlim(1700,2020)\n",
        "plt.ylim(2.6,3.6)\n",
        "plt.xticks(np.arange(2000,2020,2))\n",
        "plt.legend()\n",
        "plt.xlabel(\"SAT\")\n",
        "plt.ylabel(\"GPA\")\n",
        "plt.show()"
      ],
      "metadata": {
        "colab": {
          "base_uri": "https://localhost:8080/",
          "height": 472
        },
        "id": "RoyayB9dNXKC",
        "outputId": "19697459-042b-45c5-f128-9ea3b460ff54"
      },
      "execution_count": null,
      "outputs": [
        {
          "output_type": "display_data",
          "data": {
            "text/plain": [
              "<Figure size 640x480 with 1 Axes>"
            ],
            "image/png": "[encoded data removed]"
          },
          "metadata": {}
        }
      ]
    },
    {
      "cell_type": "code",
      "source": [
        "plt.scatter(df.SAT, df.GPA,  color='blue',label=\"Actual\")\n",
        "plt.plot(train_x, regress1.coef_[0][0]*train_x1 + regress1.intercept_[0], '-r',label=\"Predicted\")\n",
        "plt.title(\"Placement plot\")\n",
        "plt.xlim(1768,2020)\n",
        "plt.ylim(2.6,3.8)\n",
        "plt.xticks(np.arange(2000,2020,2))\n",
        "plt.legend()\n",
        "plt.xlabel(\"SAT\")\n",
        "plt.ylabel(\"GPA\")\n",
        "plt.show()"
      ],
      "metadata": {
        "colab": {
          "base_uri": "https://localhost:8080/",
          "height": 472
        },
        "id": "wMXukGWSN1ev",
        "outputId": "4bcb8412-6033-4367-9b36-73256d3f7cc4"
      },
      "execution_count": null,
      "outputs": [
        {
          "output_type": "display_data",
          "data": {
            "text/plain": [
              "<Figure size 640x480 with 1 Axes>"
            ],
            "image/png": "[encoded data removed]"
          },
          "metadata": {}
        }
      ]
    },
    {
      "cell_type": "code",
      "source": [
        "y_predicted = regress.predict(train_x)\n",
        "for i in range(0,len(train_x)):\n",
        "    print(train_y[i],y_predicted[i])\n",
        "df['Predicted'] = y_predicted\n",
        "print(y_predicted)\n",
        "print(df.head())\n"
      ],
      "metadata": {
        "colab": {
          "base_uri": "https://localhost:8080/"
        },
        "id": "FnGn_QceOXzQ",
        "outputId": "79d593c4-7bfa-48bb-bb07-6f8424b4dd47"
      },
      "execution_count": null,
      "outputs": [
        {
          "output_type": "stream",
          "name": "stdout",
          "text": [
            "[2.4] [3.11288962]\n",
            "[2.52] [3.03010522]\n",
            "[2.54] [3.18905127]\n",
            "[2.74] [3.06487466]\n",
            "[2.83] [3.07812017]\n",
            "[2.91] [3.04003934]\n",
            "[3.] [3.19567402]\n",
            "[3.] [3.19567402]\n",
            "[3.01] [3.24203329]\n",
            "[3.01] [3.33806319]\n",
            "[3.02] [3.14765907]\n",
            "[3.07] [3.21388659]\n",
            "[3.08] [3.14765907]\n",
            "[3.08] [3.10957824]\n",
            "[3.12] [3.21057521]\n",
            "[3.17] [3.37448833]\n",
            "[3.17] [3.18077283]\n",
            "[3.17] [3.0466621]\n",
            "[3.17] [3.32481769]\n",
            "[3.19] [3.23209916]\n",
            "[3.19] [3.19070696]\n",
            "[3.19] [3.12613512]\n",
            "[3.2] [3.02844953]\n",
            "[3.21] [3.06818604]\n",
            "[3.24] [3.54336851]\n",
            "[3.28] [3.29832668]\n",
            "[3.28] [3.23375485]\n",
            "[3.28] [3.29004824]\n",
            "[3.28] [3.61953016]\n",
            "[3.28] [3.24534466]\n",
            "[3.28] [3.20395246]\n",
            "[3.28] [3.47714099]\n",
            "[3.29] [3.21388659]\n",
            "[3.29] [3.34634163]\n",
            "[3.29] [3.38773383]\n",
            "[3.31] [3.3364075]\n",
            "[3.32] [3.26852429]\n",
            "[3.34] [3.51025475]\n",
            "[3.37] [3.21719796]\n",
            "[3.37] [3.30660512]\n",
            "[3.37] [3.36289851]\n",
            "[3.38] [3.33806319]\n",
            "[3.38] [3.53012301]\n",
            "[3.39] [3.09302136]\n",
            "[3.39] [3.56985952]\n",
            "[3.4] [3.4622398]\n",
            "[3.4] [3.2950153]\n",
            "[3.4] [3.51356613]\n",
            "[3.41] [3.34965301]\n",
            "[3.41] [3.55164695]\n",
            "[3.41] [3.25859017]\n",
            "[3.42] [3.34634163]\n",
            "[3.42] [3.43243741]\n",
            "[3.42] [2.98043457]\n",
            "[3.44] [3.38607815]\n",
            "[3.47] [3.39932365]\n",
            "[3.47] [3.13938063]\n",
            "[3.47] [3.50859906]\n",
            "[3.47] [3.22382072]\n",
            "[3.48] [3.4059464]\n",
            "[3.49] [3.52681163]\n",
            "[3.49] [3.26852429]\n",
            "[3.5] [3.40925778]\n",
            "[3.51] [3.65429961]\n",
            "[3.51] [3.40925778]\n",
            "[3.52] [3.30826081]\n",
            "[3.52] [3.33806319]\n",
            "[3.54] [3.47714099]\n",
            "[3.58] [3.35627576]\n",
            "[3.58] [3.47217392]\n",
            "[3.59] [3.4754853]\n",
            "[3.59] [3.21885365]\n",
            "[3.6] [3.5450242]\n",
            "[3.6] [3.47714099]\n",
            "[3.61] [3.62118585]\n",
            "[3.62] [3.61125172]\n",
            "[3.64] [3.58144934]\n",
            "[3.65] [3.61953016]\n",
            "[3.71] [3.32647338]\n",
            "[3.71] [3.48045236]\n",
            "[3.71] [3.27183567]\n",
            "[3.73] [3.56489246]\n",
            "[3.76] [3.52350025]\n",
            "[3.81] [3.6692008]\n",
            "[[3.11288962]\n",
            " [3.03010522]\n",
            " [3.18905127]\n",
            " [3.06487466]\n",
            " [3.07812017]\n",
            " [3.04003934]\n",
            " [3.19567402]\n",
            " [3.19567402]\n",
            " [3.24203329]\n",
            " [3.33806319]\n",
            " [3.14765907]\n",
            " [3.21388659]\n",
            " [3.14765907]\n",
            " [3.10957824]\n",
            " [3.21057521]\n",
            " [3.37448833]\n",
            " [3.18077283]\n",
            " [3.0466621 ]\n",
            " [3.32481769]\n",
            " [3.23209916]\n",
            " [3.19070696]\n",
            " [3.12613512]\n",
            " [3.02844953]\n",
            " [3.06818604]\n",
            " [3.54336851]\n",
            " [3.29832668]\n",
            " [3.23375485]\n",
            " [3.29004824]\n",
            " [3.61953016]\n",
            " [3.24534466]\n",
            " [3.20395246]\n",
            " [3.47714099]\n",
            " [3.21388659]\n",
            " [3.34634163]\n",
            " [3.38773383]\n",
            " [3.3364075 ]\n",
            " [3.26852429]\n",
            " [3.51025475]\n",
            " [3.21719796]\n",
            " [3.30660512]\n",
            " [3.36289851]\n",
            " [3.33806319]\n",
            " [3.53012301]\n",
            " [3.09302136]\n",
            " [3.56985952]\n",
            " [3.4622398 ]\n",
            " [3.2950153 ]\n",
            " [3.51356613]\n",
            " [3.34965301]\n",
            " [3.55164695]\n",
            " [3.25859017]\n",
            " [3.34634163]\n",
            " [3.43243741]\n",
            " [2.98043457]\n",
            " [3.38607815]\n",
            " [3.39932365]\n",
            " [3.13938063]\n",
            " [3.50859906]\n",
            " [3.22382072]\n",
            " [3.4059464 ]\n",
            " [3.52681163]\n",
            " [3.26852429]\n",
            " [3.40925778]\n",
            " [3.65429961]\n",
            " [3.40925778]\n",
            " [3.30826081]\n",
            " [3.33806319]\n",
            " [3.47714099]\n",
            " [3.35627576]\n",
            " [3.47217392]\n",
            " [3.4754853 ]\n",
            " [3.21885365]\n",
            " [3.5450242 ]\n",
            " [3.47714099]\n",
            " [3.62118585]\n",
            " [3.61125172]\n",
            " [3.58144934]\n",
            " [3.61953016]\n",
            " [3.32647338]\n",
            " [3.48045236]\n",
            " [3.27183567]\n",
            " [3.56489246]\n",
            " [3.52350025]\n",
            " [3.6692008 ]]\n",
            "    SAT   GPA  Predicted\n",
            "0  1714  2.40   3.112890\n",
            "1  1664  2.52   3.030105\n",
            "2  1760  2.54   3.189051\n",
            "3  1685  2.74   3.064875\n",
            "4  1693  2.83   3.078120\n"
          ]
        }
      ]
    },
    {
      "cell_type": "code",
      "source": [
        "y1_predicted = regress1.predict(train_x1)\n",
        "for i in range(0,len(train_x1)):\n",
        "    print(train_y1[i],y1_predicted[i])\n",
        "df['Predicted'] = y1_predicted\n",
        "print(y1_predicted)\n",
        "print(df.head())"
      ],
      "metadata": {
        "colab": {
          "base_uri": "https://localhost:8080/"
        },
        "id": "43aGvT6QOlJo",
        "outputId": "9a1f1ecc-ef1e-4cb4-cfa8-a4567b965b97"
      },
      "execution_count": null,
      "outputs": [
        {
          "output_type": "stream",
          "name": "stdout",
          "text": [
            "[2.4] [3.11288962]\n",
            "[2.52] [3.03010522]\n",
            "[2.54] [3.18905127]\n",
            "[2.74] [3.06487466]\n",
            "[2.83] [3.07812017]\n",
            "[2.91] [3.04003934]\n",
            "[3.] [3.19567402]\n",
            "[3.] [3.19567402]\n",
            "[3.01] [3.24203329]\n",
            "[3.01] [3.33806319]\n",
            "[3.02] [3.14765907]\n",
            "[3.07] [3.21388659]\n",
            "[3.08] [3.14765907]\n",
            "[3.08] [3.10957824]\n",
            "[3.12] [3.21057521]\n",
            "[3.17] [3.37448833]\n",
            "[3.17] [3.18077283]\n",
            "[3.17] [3.0466621]\n",
            "[3.17] [3.32481769]\n",
            "[3.19] [3.23209916]\n",
            "[3.19] [3.19070696]\n",
            "[3.19] [3.12613512]\n",
            "[3.2] [3.02844953]\n",
            "[3.21] [3.06818604]\n",
            "[3.24] [3.54336851]\n",
            "[3.28] [3.29832668]\n",
            "[3.28] [3.23375485]\n",
            "[3.28] [3.29004824]\n",
            "[3.28] [3.61953016]\n",
            "[3.28] [3.24534466]\n",
            "[3.28] [3.20395246]\n",
            "[3.28] [3.47714099]\n",
            "[3.29] [3.21388659]\n",
            "[3.29] [3.34634163]\n",
            "[3.29] [3.38773383]\n",
            "[3.31] [3.3364075]\n",
            "[3.32] [3.26852429]\n",
            "[3.34] [3.51025475]\n",
            "[3.37] [3.21719796]\n",
            "[3.37] [3.30660512]\n",
            "[3.37] [3.36289851]\n",
            "[3.38] [3.33806319]\n",
            "[3.38] [3.53012301]\n",
            "[3.39] [3.09302136]\n",
            "[3.39] [3.56985952]\n",
            "[3.4] [3.4622398]\n",
            "[3.4] [3.2950153]\n",
            "[3.4] [3.51356613]\n",
            "[3.41] [3.34965301]\n",
            "[3.41] [3.55164695]\n",
            "[3.41] [3.25859017]\n",
            "[3.42] [3.34634163]\n",
            "[3.42] [3.43243741]\n",
            "[3.42] [2.98043457]\n",
            "[3.44] [3.38607815]\n",
            "[3.47] [3.39932365]\n",
            "[3.47] [3.13938063]\n",
            "[3.47] [3.50859906]\n",
            "[3.47] [3.22382072]\n",
            "[3.48] [3.4059464]\n",
            "[3.49] [3.52681163]\n",
            "[3.49] [3.26852429]\n",
            "[3.5] [3.40925778]\n",
            "[3.51] [3.65429961]\n",
            "[3.51] [3.40925778]\n",
            "[3.52] [3.30826081]\n",
            "[3.52] [3.33806319]\n",
            "[3.54] [3.47714099]\n",
            "[3.58] [3.35627576]\n",
            "[3.58] [3.47217392]\n",
            "[3.59] [3.4754853]\n",
            "[3.59] [3.21885365]\n",
            "[3.6] [3.5450242]\n",
            "[3.6] [3.47714099]\n",
            "[3.61] [3.62118585]\n",
            "[3.62] [3.61125172]\n",
            "[3.64] [3.58144934]\n",
            "[3.65] [3.61953016]\n",
            "[3.71] [3.32647338]\n",
            "[3.71] [3.48045236]\n",
            "[3.71] [3.27183567]\n",
            "[3.73] [3.56489246]\n",
            "[3.76] [3.52350025]\n",
            "[3.81] [3.6692008]\n",
            "[[3.11288962]\n",
            " [3.03010522]\n",
            " [3.18905127]\n",
            " [3.06487466]\n",
            " [3.07812017]\n",
            " [3.04003934]\n",
            " [3.19567402]\n",
            " [3.19567402]\n",
            " [3.24203329]\n",
            " [3.33806319]\n",
            " [3.14765907]\n",
            " [3.21388659]\n",
            " [3.14765907]\n",
            " [3.10957824]\n",
            " [3.21057521]\n",
            " [3.37448833]\n",
            " [3.18077283]\n",
            " [3.0466621 ]\n",
            " [3.32481769]\n",
            " [3.23209916]\n",
            " [3.19070696]\n",
            " [3.12613512]\n",
            " [3.02844953]\n",
            " [3.06818604]\n",
            " [3.54336851]\n",
            " [3.29832668]\n",
            " [3.23375485]\n",
            " [3.29004824]\n",
            " [3.61953016]\n",
            " [3.24534466]\n",
            " [3.20395246]\n",
            " [3.47714099]\n",
            " [3.21388659]\n",
            " [3.34634163]\n",
            " [3.38773383]\n",
            " [3.3364075 ]\n",
            " [3.26852429]\n",
            " [3.51025475]\n",
            " [3.21719796]\n",
            " [3.30660512]\n",
            " [3.36289851]\n",
            " [3.33806319]\n",
            " [3.53012301]\n",
            " [3.09302136]\n",
            " [3.56985952]\n",
            " [3.4622398 ]\n",
            " [3.2950153 ]\n",
            " [3.51356613]\n",
            " [3.34965301]\n",
            " [3.55164695]\n",
            " [3.25859017]\n",
            " [3.34634163]\n",
            " [3.43243741]\n",
            " [2.98043457]\n",
            " [3.38607815]\n",
            " [3.39932365]\n",
            " [3.13938063]\n",
            " [3.50859906]\n",
            " [3.22382072]\n",
            " [3.4059464 ]\n",
            " [3.52681163]\n",
            " [3.26852429]\n",
            " [3.40925778]\n",
            " [3.65429961]\n",
            " [3.40925778]\n",
            " [3.30826081]\n",
            " [3.33806319]\n",
            " [3.47714099]\n",
            " [3.35627576]\n",
            " [3.47217392]\n",
            " [3.4754853 ]\n",
            " [3.21885365]\n",
            " [3.5450242 ]\n",
            " [3.47714099]\n",
            " [3.62118585]\n",
            " [3.61125172]\n",
            " [3.58144934]\n",
            " [3.61953016]\n",
            " [3.32647338]\n",
            " [3.48045236]\n",
            " [3.27183567]\n",
            " [3.56489246]\n",
            " [3.52350025]\n",
            " [3.6692008 ]]\n",
            "    SAT   GPA  Predicted\n",
            "0  1714  2.40   3.112890\n",
            "1  1664  2.52   3.030105\n",
            "2  1760  2.54   3.189051\n",
            "3  1685  2.74   3.064875\n",
            "4  1693  2.83   3.078120\n"
          ]
        }
      ]
    },
    {
      "cell_type": "code",
      "source": [
        "from sklearn import metrics\n",
        "print('Mean Absolute Error:', metrics.mean_absolute_error(train_y, y_predicted))\n",
        "print('Mean Squared Error:', metrics.mean_squared_error(train_y, y_predicted))\n",
        "print('Root Mean Squared Error:', np.sqrt(metrics.mean_squared_error(train_y, y_predicted)))"
      ],
      "metadata": {
        "colab": {
          "base_uri": "https://localhost:8080/"
        },
        "id": "3aOPyqjoOuUN",
        "outputId": "6cc498ae-c2f5-4572-af00-fb9f0d29b036"
      },
      "execution_count": null,
      "outputs": [
        {
          "output_type": "stream",
          "name": "stdout",
          "text": [
            "Mean Absolute Error: 0.15496879012561524\n",
            "Mean Squared Error: 0.04330086666167266\n",
            "Root Mean Squared Error: 0.2080886029115306\n"
          ]
        }
      ]
    },
    {
      "cell_type": "code",
      "source": [
        "from sklearn import metrics\n",
        "print('Mean Absolute Error:', metrics.mean_absolute_error(train_y1, y1_predicted))\n",
        "print('Mean Squared Error:', metrics.mean_squared_error(train_y1, y1_predicted))\n",
        "print('Root Mean Squared Error:', np.sqrt(metrics.mean_squared_error(train_y1, y1_predicted)))"
      ],
      "metadata": {
        "colab": {
          "base_uri": "https://localhost:8080/"
        },
        "id": "gRAmdSSLO1Oo",
        "outputId": "aa1afdd7-a2b4-4715-f264-27f8dadd4eb5"
      },
      "execution_count": null,
      "outputs": [
        {
          "output_type": "stream",
          "name": "stdout",
          "text": [
            "Mean Absolute Error: 0.15496879012561524\n",
            "Mean Squared Error: 0.04330086666167266\n",
            "Root Mean Squared Error: 0.2080886029115306\n"
          ]
        }
      ]
    },
    {
      "cell_type": "code",
      "source": [
        "from sklearn.metrics import r2_score\n",
        "\n",
        "test_x = np.asanyarray(df[['SAT']])\n",
        "test_y = np.asanyarray(df[['GPA']])\n",
        "test_y_predicted = regress.predict(test_x)\n",
        "\n",
        "print(\"Mean absolute error (MAE):\" , np.mean(np.absolute(test_y_predicted - test_y)))\n",
        "print(\"Mean square error (MSE): \" , np.mean((test_y_predicted - test_y) ** 2))\n",
        "print(\"R2-score: %.2f (RMSE):\" , r2_score(test_y, test_y_predicted) )"
      ],
      "metadata": {
        "colab": {
          "base_uri": "https://localhost:8080/"
        },
        "id": "_dqMZPmYO8sZ",
        "outputId": "14e265b7-9afa-4187-c550-af04a111e3c4"
      },
      "execution_count": null,
      "outputs": [
        {
          "output_type": "stream",
          "name": "stdout",
          "text": [
            "Mean absolute error (MAE): 0.15496879012561524\n",
            "Mean square error (MSE):  0.04330086666167266\n",
            "R2-score: %.2f (RMSE): 0.40600391479679754\n"
          ]
        }
      ]
    },
    {
      "cell_type": "code",
      "source": [
        "from sklearn.metrics import r2_score\n",
        "\n",
        "test_x1 = np.asanyarray(df[['SAT']])\n",
        "test_y1 = np.asanyarray(df[['GPA']])\n",
        "test_y1_predicted = regress1.predict(test_x1)\n",
        "\n",
        "print(\"Mean absolute error (MAE):\" , np.mean(np.absolute(test_y1_predicted - test_y1)))\n",
        "print(\"Mean square error (MSE): \" , np.mean((test_y1_predicted - test_y1) ** 2))\n",
        "print(\"R2-score: %.2f (RMSE):\" , r2_score(test_y1, test_y1_predicted) )"
      ],
      "metadata": {
        "colab": {
          "base_uri": "https://localhost:8080/"
        },
        "id": "D8Nl-ezvPJir",
        "outputId": "085b6d6d-5965-4365-de00-42f770a1fc6a"
      },
      "execution_count": null,
      "outputs": [
        {
          "output_type": "stream",
          "name": "stdout",
          "text": [
            "Mean absolute error (MAE): 0.15496879012561524\n",
            "Mean square error (MSE):  0.04330086666167266\n",
            "R2-score: %.2f (RMSE): 0.40600391479679754\n"
          ]
        }
      ]
    },
    {
      "cell_type": "code",
      "source": [
        "import pandas as pd\n",
        "from sklearn.model_selection import train_test_split\n",
        "from sklearn.linear_model import LinearRegression\n",
        "import numpy as np\n",
        "\n",
        "\n",
        "# Split the dataset into training and testing sets\n",
        "X_train, X_test, Y_train, Y_test = train_test_split(X, Y, test_size=0.2, random_state=42)\n",
        "\n",
        "# Create and train the model\n",
        "model = LinearRegression()\n",
        "model.fit(X_train, Y_train)\n",
        "\n",
        "# Predict GPA for new SAT scores\n",
        "new_SAT_scores = pd.DataFrame({'SAT': [1300, 1500, 1800]})\n",
        "predicted_GPA = model.predict(new_SAT_scores)\n",
        "\n",
        "# Display the predictions\n",
        "for score, gpa in zip(new_SAT_scores['SAT'], predicted_GPA):\n",
        "    print(f\"Predicted GPA for SAT score {score}: {gpa:.2f}\")\n"
      ],
      "metadata": {
        "colab": {
          "base_uri": "https://localhost:8080/"
        },
        "id": "euT1WSnUPsuj",
        "outputId": "c5cb3a68-ab17-41a5-e90c-9a2f26c5ca07"
      },
      "execution_count": null,
      "outputs": [
        {
          "output_type": "stream",
          "name": "stdout",
          "text": [
            "Predicted GPA for SAT score 1300: 2.54\n",
            "Predicted GPA for SAT score 1500: 2.83\n",
            "Predicted GPA for SAT score 1800: 3.27\n"
          ]
        },
        {
          "output_type": "stream",
          "name": "stderr",
          "text": [
            "/usr/local/lib/python3.10/dist-packages/sklearn/base.py:432: UserWarning: X has feature names, but LinearRegression was fitted without feature names\n",
            "  warnings.warn(\n"
          ]
        }
      ]
    },
    {
      "cell_type": "code",
      "source": [
        "import pandas as pd\n",
        "from sklearn.model_selection import train_test_split\n",
        "from sklearn.linear_model import LinearRegression\n",
        "\n",
        "# Load the dataset from the CSV file\n",
        "file_path = '/content/1.01. Simple linear regression.csv'  # Replace with your actual file path\n",
        "df = pd.read_csv(file_path)\n",
        "\n",
        "# Define the predictor (X) and response (Y) variables\n",
        "X = df[['SAT']]\n",
        "Y = df['GPA']\n",
        "\n",
        "# Split the dataset into training and testing sets (optional)\n",
        "X_train, X_test, Y_train, Y_test = train_test_split(X, Y, test_size=0.2, random_state=42)\n",
        "\n",
        "# Create and train the model\n",
        "model = LinearRegression()\n",
        "model.fit(X_train, Y_train)\n",
        "\n",
        "# Predict GPA for new SAT scores\n",
        "new_SAT_scores = pd.DataFrame({'SAT': [1300, 1500, 1800]})  # Replace with your new SAT scores\n",
        "predicted_GPA = model.predict(new_SAT_scores)\n",
        "\n",
        "# Display the predictions\n",
        "for score, gpa in zip(new_SAT_scores['SAT'], predicted_GPA):\n",
        "    print(f\"Predicted GPA for SAT score {score}: {gpa:.2f}\")\n",
        "\n",
        "# Optionally save the predictions to a CSV file\n",
        "output_df = new_SAT_scores.copy()\n",
        "output_df['Predicted_GPA'] = predicted_GPA\n",
        "output_df.to_csv('predicted_gpa.csv', index=False)\n"
      ],
      "metadata": {
        "colab": {
          "base_uri": "https://localhost:8080/"
        },
        "id": "e98BHOEqRmWY",
        "outputId": "e30d11ea-f4cf-4a40-a05a-8006356624d8"
      },
      "execution_count": null,
      "outputs": [
        {
          "output_type": "stream",
          "name": "stdout",
          "text": [
            "Predicted GPA for SAT score 1300: 2.54\n",
            "Predicted GPA for SAT score 1500: 2.83\n",
            "Predicted GPA for SAT score 1800: 3.27\n"
          ]
        }
      ]
    },
    {
      "cell_type": "code",
      "source": [
        "x=1300\n",
        "y=m*x+c\n",
        "print(y)"
      ],
      "metadata": {
        "id": "gGwQuBgmSlX7",
        "colab": {
          "base_uri": "https://localhost:8080/"
        },
        "outputId": "14752b4a-95ee-4ed9-98ba-1e8f92725de1"
      },
      "execution_count": null,
      "outputs": [
        {
          "output_type": "stream",
          "name": "stdout",
          "text": [
            "[[2.42743476]]\n"
          ]
        }
      ]
    }
  ]
}